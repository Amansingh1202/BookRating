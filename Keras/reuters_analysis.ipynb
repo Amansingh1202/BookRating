{
  "nbformat": 4,
  "nbformat_minor": 0,
  "metadata": {
    "colab": {
      "name": "reuters_analysis.ipynb",
      "provenance": [],
      "collapsed_sections": [],
      "authorship_tag": "ABX9TyNVMst2zjjdbBprpDhv9OdC",
      "include_colab_link": true
    },
    "kernelspec": {
      "name": "python3",
      "display_name": "Python 3"
    },
    "accelerator": "TPU"
  },
  "cells": [
    {
      "cell_type": "markdown",
      "metadata": {
        "id": "view-in-github",
        "colab_type": "text"
      },
      "source": [
        "<a href=\"https://colab.research.google.com/github/Amansingh1202/BookRating/blob/master/Keras/reuters_analysis.ipynb\" target=\"_parent\"><img src=\"https://colab.research.google.com/assets/colab-badge.svg\" alt=\"Open In Colab\"/></a>"
      ]
    },
    {
      "cell_type": "code",
      "metadata": {
        "id": "5PIJkGpRwjTB",
        "colab_type": "code",
        "colab": {}
      },
      "source": [
        "!pip install -q keras"
      ],
      "execution_count": null,
      "outputs": []
    },
    {
      "cell_type": "code",
      "metadata": {
        "id": "y1eW3kc_zD7o",
        "colab_type": "code",
        "colab": {}
      },
      "source": [
        "from keras.datasets import reuters\n",
        "(train_data,train_labels),(test_data,test_labels)=reuters.load_data(num_words=10000)"
      ],
      "execution_count": null,
      "outputs": []
    },
    {
      "cell_type": "code",
      "metadata": {
        "id": "pjXfI2g51SPD",
        "colab_type": "code",
        "colab": {
          "base_uri": "https://localhost:8080/",
          "height": 35
        },
        "outputId": "ac1bfc1e-04f3-48e1-8fa8-3b65b6f5e5fe"
      },
      "source": [
        "print(train_labels)"
      ],
      "execution_count": null,
      "outputs": [
        {
          "output_type": "stream",
          "text": [
            "[ 3  4  3 ... 25  3 25]\n"
          ],
          "name": "stdout"
        }
      ]
    },
    {
      "cell_type": "code",
      "metadata": {
        "id": "8U077Pn-zWrc",
        "colab_type": "code",
        "colab": {}
      },
      "source": [
        "from keras.utils.np_utils import to_categorical\n",
        "one_hot_train_labels = to_categorical(train_labels)\n",
        "one_hot_test_labels = to_categorical(test_labels)"
      ],
      "execution_count": null,
      "outputs": []
    },
    {
      "cell_type": "code",
      "metadata": {
        "id": "sRABuFYj4y4t",
        "colab_type": "code",
        "colab": {}
      },
      "source": [
        "import numpy as np\n",
        "def vectorize_sequences(sequences,dimension=10000):\n",
        "  results = np.zeros((len(sequences),dimension))\n",
        "  for i, sequence in enumerate(sequences):\n",
        "    results[i,sequence] = 1.\n",
        "  return results\n",
        "x_train = vectorize_sequences(train_data)\n",
        "x_test = vectorize_sequences(test_data)"
      ],
      "execution_count": null,
      "outputs": []
    },
    {
      "cell_type": "code",
      "metadata": {
        "id": "eMv7VBepzcjN",
        "colab_type": "code",
        "colab": {
          "base_uri": "https://localhost:8080/",
          "height": 144
        },
        "outputId": "03524a32-b558-46b4-9051-c9506706a989"
      },
      "source": [
        "print(one_hot_train_labels)"
      ],
      "execution_count": null,
      "outputs": [
        {
          "output_type": "stream",
          "text": [
            "[[0. 0. 0. ... 0. 0. 0.]\n",
            " [0. 0. 0. ... 0. 0. 0.]\n",
            " [0. 0. 0. ... 0. 0. 0.]\n",
            " ...\n",
            " [0. 0. 0. ... 0. 0. 0.]\n",
            " [0. 0. 0. ... 0. 0. 0.]\n",
            " [0. 0. 0. ... 0. 0. 0.]]\n"
          ],
          "name": "stdout"
        }
      ]
    },
    {
      "cell_type": "code",
      "metadata": {
        "id": "Q6PHTkVh14R9",
        "colab_type": "code",
        "colab": {}
      },
      "source": [
        "from keras import models\n",
        "from keras import layers\n",
        "model = models.Sequential()\n",
        "model.add(layers.Dense(64,activation = 'relu',input_shape=(10000,)))\n",
        "model.add(layers.Dense(64,activation='relu'))\n",
        "model.add(layers.Dense(46,activation='softmax'))\n",
        "model.compile(optimizer='rmsprop',loss='categorical_crossentropy',metrics=['accuracy'])"
      ],
      "execution_count": null,
      "outputs": []
    },
    {
      "cell_type": "code",
      "metadata": {
        "id": "swGemqnK3ia2",
        "colab_type": "code",
        "colab": {}
      },
      "source": [
        "x_val = x_train[:1000]\n",
        "partial_x_train=x_train[1000:]\n",
        "y_val = one_hot_train_labels[:1000]\n",
        "partial_y_train = one_hot_train_labels[1000:]"
      ],
      "execution_count": null,
      "outputs": []
    },
    {
      "cell_type": "code",
      "metadata": {
        "id": "My_gSz5u4Nc6",
        "colab_type": "code",
        "colab": {
          "base_uri": "https://localhost:8080/",
          "height": 762
        },
        "outputId": "1ee13938-055f-4299-d104-da8b66cc1bb8"
      },
      "source": [
        "history = model.fit(partial_x_train,partial_y_train,epochs=20,batch_size=512,validation_data=(x_val,y_val))\n"
      ],
      "execution_count": null,
      "outputs": [
        {
          "output_type": "stream",
          "text": [
            "Train on 7982 samples, validate on 1000 samples\n",
            "Epoch 1/20\n",
            "7982/7982 [==============================] - 1s 160us/step - loss: 2.6749 - accuracy: 0.4327 - val_loss: 1.7999 - val_accuracy: 0.6370\n",
            "Epoch 2/20\n",
            "7982/7982 [==============================] - 1s 120us/step - loss: 1.4869 - accuracy: 0.6962 - val_loss: 1.3541 - val_accuracy: 0.6980\n",
            "Epoch 3/20\n",
            "7982/7982 [==============================] - 1s 119us/step - loss: 1.1072 - accuracy: 0.7658 - val_loss: 1.1716 - val_accuracy: 0.7450\n",
            "Epoch 4/20\n",
            "7982/7982 [==============================] - 1s 118us/step - loss: 0.8776 - accuracy: 0.8126 - val_loss: 1.0627 - val_accuracy: 0.7680\n",
            "Epoch 5/20\n",
            "7982/7982 [==============================] - 1s 119us/step - loss: 0.7010 - accuracy: 0.8524 - val_loss: 0.9920 - val_accuracy: 0.7930\n",
            "Epoch 6/20\n",
            "7982/7982 [==============================] - 1s 118us/step - loss: 0.5595 - accuracy: 0.8861 - val_loss: 0.9537 - val_accuracy: 0.7910\n",
            "Epoch 7/20\n",
            "7982/7982 [==============================] - 1s 119us/step - loss: 0.4460 - accuracy: 0.9090 - val_loss: 0.9218 - val_accuracy: 0.8110\n",
            "Epoch 8/20\n",
            "7982/7982 [==============================] - 1s 120us/step - loss: 0.3624 - accuracy: 0.9245 - val_loss: 0.8854 - val_accuracy: 0.8160\n",
            "Epoch 9/20\n",
            "7982/7982 [==============================] - 1s 121us/step - loss: 0.2965 - accuracy: 0.9354 - val_loss: 0.9016 - val_accuracy: 0.8150\n",
            "Epoch 10/20\n",
            "7982/7982 [==============================] - 1s 120us/step - loss: 0.2489 - accuracy: 0.9416 - val_loss: 0.9127 - val_accuracy: 0.8080\n",
            "Epoch 11/20\n",
            "7982/7982 [==============================] - 1s 120us/step - loss: 0.2189 - accuracy: 0.9468 - val_loss: 0.8968 - val_accuracy: 0.8180\n",
            "Epoch 12/20\n",
            "7982/7982 [==============================] - 1s 124us/step - loss: 0.1839 - accuracy: 0.9504 - val_loss: 0.9235 - val_accuracy: 0.8140\n",
            "Epoch 13/20\n",
            "7982/7982 [==============================] - 1s 124us/step - loss: 0.1664 - accuracy: 0.9526 - val_loss: 0.9784 - val_accuracy: 0.8050\n",
            "Epoch 14/20\n",
            "7982/7982 [==============================] - 1s 122us/step - loss: 0.1552 - accuracy: 0.9541 - val_loss: 0.9593 - val_accuracy: 0.8160\n",
            "Epoch 15/20\n",
            "7982/7982 [==============================] - 1s 121us/step - loss: 0.1403 - accuracy: 0.9550 - val_loss: 0.9760 - val_accuracy: 0.8090\n",
            "Epoch 16/20\n",
            "7982/7982 [==============================] - 1s 121us/step - loss: 0.1320 - accuracy: 0.9554 - val_loss: 1.0070 - val_accuracy: 0.8140\n",
            "Epoch 17/20\n",
            "7982/7982 [==============================] - 1s 121us/step - loss: 0.1277 - accuracy: 0.9569 - val_loss: 1.0263 - val_accuracy: 0.8100\n",
            "Epoch 18/20\n",
            "7982/7982 [==============================] - 1s 121us/step - loss: 0.1215 - accuracy: 0.9567 - val_loss: 1.0309 - val_accuracy: 0.8150\n",
            "Epoch 19/20\n",
            "7982/7982 [==============================] - 1s 122us/step - loss: 0.1145 - accuracy: 0.9564 - val_loss: 1.0524 - val_accuracy: 0.8100\n",
            "Epoch 20/20\n",
            "7982/7982 [==============================] - 1s 121us/step - loss: 0.1102 - accuracy: 0.9575 - val_loss: 1.0956 - val_accuracy: 0.8030\n"
          ],
          "name": "stdout"
        }
      ]
    },
    {
      "cell_type": "code",
      "metadata": {
        "id": "THs-1GWN7OLk",
        "colab_type": "code",
        "colab": {
          "base_uri": "https://localhost:8080/",
          "height": 279
        },
        "outputId": "f618aa79-e4b2-417a-802b-556729cca220"
      },
      "source": [
        "import matplotlib.pyplot as plt\n",
        "loss = history.history['loss']\n",
        "val_loss = history.history['val_loss']\n",
        "epochs = range(1,len(loss)+1)\n",
        "plt.plot(epochs,loss,'bo',label='Training loss')\n",
        "plt.plot(epochs,val_loss,'b',label='Validation loss')\n",
        "plt.xlabel('Epochs')\n",
        "plt.ylabel('Loss')\n",
        "plt.legend()\n",
        "plt.show()"
      ],
      "execution_count": null,
      "outputs": [
        {
          "output_type": "display_data",
          "data": {
            "image/png": "[encoded data removed]",
            "text/plain": [
              "<Figure size 432x288 with 1 Axes>"
            ]
          },
          "metadata": {
            "tags": [],
            "needs_background": "light"
          }
        }
      ]
    },
    {
      "cell_type": "code",
      "metadata": {
        "id": "tndy2mz08mn_",
        "colab_type": "code",
        "colab": {
          "base_uri": "https://localhost:8080/",
          "height": 279
        },
        "outputId": "14fa9a43-2b9d-47ab-806f-cc8acad98885"
      },
      "source": [
        "plt.clf()\n",
        "acc = history.history['accuracy']\n",
        "val_acc = history.history['val_accuracy']\n",
        "epochs = range(1,len(loss)+1)\n",
        "plt.plot(epochs,acc,'bo',label='Training Acc')\n",
        "plt.plot(epochs,val_acc,'b',label='Validation Acc')\n",
        "plt.xlabel('Epochs')\n",
        "plt.ylabel('Acc')\n",
        "plt.legend()\n",
        "plt.show()"
      ],
      "execution_count": null,
      "outputs": [
        {
          "output_type": "display_data",
          "data": {
            "image/png": "[encoded data removed]",
            "text/plain": [
              "<Figure size 432x288 with 1 Axes>"
            ]
          },
          "metadata": {
            "tags": [],
            "needs_background": "light"
          }
        }
      ]
    },
    {
      "cell_type": "code",
      "metadata": {
        "id": "wlyG9gIL9EVv",
        "colab_type": "code",
        "colab": {
          "base_uri": "https://localhost:8080/",
          "height": 344
        },
        "outputId": "be889d47-5419-4238-88cd-d54f3c645295"
      },
      "source": [
        "model.fit(x_train,one_hot_train_labels,epochs=8,batch_size=512,validation_data=(x_val,y_val))"
      ],
      "execution_count": null,
      "outputs": [
        {
          "output_type": "stream",
          "text": [
            "Train on 8982 samples, validate on 1000 samples\n",
            "Epoch 1/8\n",
            "8982/8982 [==============================] - 1s 128us/step - loss: 0.2177 - accuracy: 0.9405 - val_loss: 0.6232 - val_accuracy: 0.8780\n",
            "Epoch 2/8\n",
            "8982/8982 [==============================] - 1s 125us/step - loss: 0.1638 - accuracy: 0.9489 - val_loss: 0.4207 - val_accuracy: 0.9180\n",
            "Epoch 3/8\n",
            "8982/8982 [==============================] - 1s 125us/step - loss: 0.1445 - accuracy: 0.9503 - val_loss: 0.2900 - val_accuracy: 0.9340\n",
            "Epoch 4/8\n",
            "8982/8982 [==============================] - 1s 129us/step - loss: 0.1320 - accuracy: 0.9509 - val_loss: 0.2533 - val_accuracy: 0.9360\n",
            "Epoch 5/8\n",
            "8982/8982 [==============================] - 1s 126us/step - loss: 0.1227 - accuracy: 0.9539 - val_loss: 0.2018 - val_accuracy: 0.9530\n",
            "Epoch 6/8\n",
            "8982/8982 [==============================] - 1s 124us/step - loss: 0.1138 - accuracy: 0.9547 - val_loss: 0.2041 - val_accuracy: 0.9580\n",
            "Epoch 7/8\n",
            "8982/8982 [==============================] - 1s 123us/step - loss: 0.1165 - accuracy: 0.9546 - val_loss: 0.1570 - val_accuracy: 0.9600\n",
            "Epoch 8/8\n",
            "8982/8982 [==============================] - 1s 123us/step - loss: 0.1126 - accuracy: 0.9554 - val_loss: 0.1402 - val_accuracy: 0.9600\n"
          ],
          "name": "stdout"
        },
        {
          "output_type": "execute_result",
          "data": {
            "text/plain": [
              "<keras.callbacks.callbacks.History at 0x7f918c7b7a90>"
            ]
          },
          "metadata": {
            "tags": []
          },
          "execution_count": 31
        }
      ]
    },
    {
      "cell_type": "code",
      "metadata": {
        "id": "aif6KJ4u-YW5",
        "colab_type": "code",
        "colab": {
          "base_uri": "https://localhost:8080/",
          "height": 35
        },
        "outputId": "aa662f03-1fe7-49a4-9d1d-7ead6b0efff6"
      },
      "source": [
        "results = model.evaluate(x_test,one_hot_test_labels)"
      ],
      "execution_count": null,
      "outputs": [
        {
          "output_type": "stream",
          "text": [
            "2246/2246 [==============================] - 0s 117us/step\n"
          ],
          "name": "stdout"
        }
      ]
    },
    {
      "cell_type": "code",
      "metadata": {
        "id": "8uQlGDa2_O_I",
        "colab_type": "code",
        "colab": {}
      },
      "source": [
        "predictions = model.predict(x_test)"
      ],
      "execution_count": null,
      "outputs": []
    },
    {
      "cell_type": "code",
      "metadata": {
        "id": "p0a7EvS5_ufL",
        "colab_type": "code",
        "colab": {
          "base_uri": "https://localhost:8080/",
          "height": 35
        },
        "outputId": "7f191365-0d21-406e-a10a-8d9217cc2676"
      },
      "source": [
        "np.argmax(predictions[0])"
      ],
      "execution_count": null,
      "outputs": [
        {
          "output_type": "execute_result",
          "data": {
            "text/plain": [
              "3"
            ]
          },
          "metadata": {
            "tags": []
          },
          "execution_count": 37
        }
      ]
    }
  ]
}